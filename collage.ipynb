{
 "cells": [
  {
   "cell_type": "code",
   "execution_count": 1,
   "id": "f810fb0d",
   "metadata": {},
   "outputs": [],
   "source": [
    "import cv2"
   ]
  },
  {
   "cell_type": "code",
   "execution_count": 2,
   "id": "7471127d",
   "metadata": {},
   "outputs": [],
   "source": [
    "Damon=cv2.imread(\"Damon.jpeg\")"
   ]
  },
  {
   "cell_type": "code",
   "execution_count": 3,
   "id": "573ced92",
   "metadata": {},
   "outputs": [],
   "source": [
    "Klaus=cv2.imread(\"Klaus.jpeg\")"
   ]
  },
  {
   "cell_type": "code",
   "execution_count": 4,
   "id": "443a9b15",
   "metadata": {},
   "outputs": [
    {
     "data": {
      "text/plain": [
       "(452, 678, 3)"
      ]
     },
     "execution_count": 4,
     "metadata": {},
     "output_type": "execute_result"
    }
   ],
   "source": [
    "Damon.shape"
   ]
  },
  {
   "cell_type": "code",
   "execution_count": 5,
   "id": "439c2570",
   "metadata": {},
   "outputs": [
    {
     "data": {
      "text/plain": [
       "(460, 666, 3)"
      ]
     },
     "execution_count": 5,
     "metadata": {},
     "output_type": "execute_result"
    }
   ],
   "source": [
    "Klaus.shape"
   ]
  },
  {
   "cell_type": "code",
   "execution_count": 6,
   "id": "26aefe55",
   "metadata": {},
   "outputs": [],
   "source": [
    "Klaus=Klaus[0:452,:]"
   ]
  },
  {
   "cell_type": "code",
   "execution_count": 7,
   "id": "7ae6eb6c",
   "metadata": {},
   "outputs": [
    {
     "data": {
      "text/plain": [
       "(452, 666, 3)"
      ]
     },
     "execution_count": 7,
     "metadata": {},
     "output_type": "execute_result"
    }
   ],
   "source": [
    "Klaus.shape"
   ]
  },
  {
   "cell_type": "code",
   "execution_count": 8,
   "id": "249d9f9e",
   "metadata": {},
   "outputs": [],
   "source": [
    "import numpy as np\n",
    "Damon_Klaus_horizontal=np.hstack((Damon,Klaus))"
   ]
  },
  {
   "cell_type": "code",
   "execution_count": 9,
   "id": "5e90fcef",
   "metadata": {},
   "outputs": [],
   "source": [
    "cv2.imshow(\"Horizontal\",Damon_Klaus_horizontal)\n",
    "cv2.waitKey()\n",
    "cv2.destroyAllWindows()"
   ]
  },
  {
   "cell_type": "code",
   "execution_count": 10,
   "id": "d5009b0b",
   "metadata": {},
   "outputs": [],
   "source": [
    "Damon=cv2.imread(\"Damon.jpeg\")\n",
    "Klaus=cv2.imread(\"Klaus.jpeg\")\n",
    "Damon=Damon[:,:666]\n",
    "\n",
    "import numpy as np\n",
    "Damon_Klaus_vertical=np.vstack((Damon,Klaus))"
   ]
  },
  {
   "cell_type": "code",
   "execution_count": 11,
   "id": "f6e7cb14",
   "metadata": {},
   "outputs": [],
   "source": [
    "cv2.imshow(\"Vertical\",Damon_Klaus_vertical)\n",
    "cv2.waitKey()\n",
    "cv2.destroyAllWindows()"
   ]
  },
  {
   "cell_type": "code",
   "execution_count": null,
   "id": "56402dd4",
   "metadata": {},
   "outputs": [],
   "source": []
  }
 ],
 "metadata": {
  "kernelspec": {
   "display_name": "Python 3",
   "language": "python",
   "name": "python3"
  },
  "language_info": {
   "codemirror_mode": {
    "name": "ipython",
    "version": 3
   },
   "file_extension": ".py",
   "mimetype": "text/x-python",
   "name": "python",
   "nbconvert_exporter": "python",
   "pygments_lexer": "ipython3",
   "version": "3.8.8"
  }
 },
 "nbformat": 4,
 "nbformat_minor": 5
}
