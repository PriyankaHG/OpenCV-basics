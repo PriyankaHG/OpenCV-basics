{
 "cells": [
  {
   "cell_type": "code",
   "execution_count": 1,
   "id": "0fca5ddf",
   "metadata": {},
   "outputs": [],
   "source": [
    "import numpy\n",
    "import cv2"
   ]
  },
  {
   "cell_type": "code",
   "execution_count": 2,
   "id": "bd84b163",
   "metadata": {},
   "outputs": [],
   "source": [
    "pic=numpy.zeros((600,600,3))\n",
    "pic[:200,:500]=[255,0,0]\n",
    "pic[200:,:600]=[0,255,0]\n",
    "pic[200:,:500]=[0,0,0]"
   ]
  },
  {
   "cell_type": "code",
   "execution_count": 3,
   "id": "c9c8507b",
   "metadata": {},
   "outputs": [],
   "source": [
    "cv2.imshow('image',pic)\n",
    "cv2.waitKey()\n",
    "cv2.destroyAllWindows()"
   ]
  },
  {
   "cell_type": "code",
   "execution_count": null,
   "id": "c545cf46",
   "metadata": {},
   "outputs": [],
   "source": []
  }
 ],
 "metadata": {
  "kernelspec": {
   "display_name": "Python 3",
   "language": "python",
   "name": "python3"
  },
  "language_info": {
   "codemirror_mode": {
    "name": "ipython",
    "version": 3
   },
   "file_extension": ".py",
   "mimetype": "text/x-python",
   "name": "python",
   "nbconvert_exporter": "python",
   "pygments_lexer": "ipython3",
   "version": "3.8.8"
  }
 },
 "nbformat": 4,
 "nbformat_minor": 5
}
