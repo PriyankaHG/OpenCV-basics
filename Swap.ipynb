{
 "cells": [
  {
   "cell_type": "code",
   "execution_count": 1,
   "id": "f71e1132",
   "metadata": {},
   "outputs": [],
   "source": [
    "import cv2\n",
    "import numpy as np"
   ]
  },
  {
   "cell_type": "code",
   "execution_count": 2,
   "id": "06ffe96a",
   "metadata": {},
   "outputs": [],
   "source": [
    "Damon = cv2.imread('Damon.jpeg')\n",
    "cv2.imshow(\"Damon\", Damon)\n",
    "cv2.waitKey()\n",
    "cv2.destroyAllWindows()"
   ]
  },
  {
   "cell_type": "code",
   "execution_count": 3,
   "id": "419af614",
   "metadata": {},
   "outputs": [],
   "source": [
    "ap1 = 205\n",
    "aq1 = 20\n",
    "ap2 = 465\n",
    "aq2 = 360\n",
    "\n",
    "\n",
    "DamFace = Damon[aq1:aq2, ap1:ap2]\n",
    "cv2.imshow(\"Damon\", DamFace)\n",
    "cv2.waitKey()\n",
    "cv2.destroyAllWindows()"
   ]
  },
  {
   "cell_type": "code",
   "execution_count": 4,
   "id": "a20a5b69",
   "metadata": {},
   "outputs": [],
   "source": [
    "Klaus = cv2.imread('Klaus.jpeg')\n",
    "cv2.imshow(\"Klaus\", Klaus)\n",
    "cv2.waitKey()\n",
    "cv2.destroyAllWindows()"
   ]
  },
  {
   "cell_type": "code",
   "execution_count": 5,
   "id": "8fb465f9",
   "metadata": {},
   "outputs": [],
   "source": [
    "bp1 = 190\n",
    "bq1 = 20\n",
    "bp2 = 450\n",
    "bq2 = 360\n",
    "\n",
    "KlaFace = Klaus[bq1:bq2, bp1:bp2]\n",
    "cv2.imshow(\"Klaus\", KlaFace)\n",
    "cv2.waitKey()\n",
    "cv2.destroyAllWindows()"
   ]
  },
  {
   "cell_type": "code",
   "execution_count": 6,
   "id": "dc4d6b07",
   "metadata": {},
   "outputs": [],
   "source": [
    "Damon = cv2.imread('Damon.jpeg')\n",
    "Damon[aq1:aq2, ap1:ap2] = KlaFace\n",
    "\n",
    "cv2.imshow(\"Damon\", Damon)\n",
    "cv2.waitKey()\n",
    "cv2.destroyAllWindows()"
   ]
  },
  {
   "cell_type": "code",
   "execution_count": 7,
   "id": "84c375a9",
   "metadata": {},
   "outputs": [],
   "source": [
    "Klaus = cv2.imread('Klaus.jpeg')\n",
    "Klaus[bq1:bq2, bp1:bp2] = DamFace\n",
    "\n",
    "cv2.imshow(\"Klaus\", Klaus)\n",
    "cv2.waitKey()\n",
    "cv2.destroyAllWindows()"
   ]
  },
  {
   "cell_type": "code",
   "execution_count": null,
   "id": "4ca86833",
   "metadata": {},
   "outputs": [],
   "source": []
  }
 ],
 "metadata": {
  "kernelspec": {
   "display_name": "Python 3",
   "language": "python",
   "name": "python3"
  },
  "language_info": {
   "codemirror_mode": {
    "name": "ipython",
    "version": 3
   },
   "file_extension": ".py",
   "mimetype": "text/x-python",
   "name": "python",
   "nbconvert_exporter": "python",
   "pygments_lexer": "ipython3",
   "version": "3.8.8"
  }
 },
 "nbformat": 4,
 "nbformat_minor": 5
}
